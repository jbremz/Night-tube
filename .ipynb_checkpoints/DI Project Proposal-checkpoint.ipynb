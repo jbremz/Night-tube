{
 "cells": [
  {
   "cell_type": "markdown",
   "metadata": {},
   "source": [
    "# The London night tube and the night time economy "
   ]
  },
  {
   "cell_type": "markdown",
   "metadata": {},
   "source": [
    "## Data import and merging"
   ]
  },
  {
   "cell_type": "code",
   "execution_count": 2,
   "metadata": {},
   "outputs": [],
   "source": [
    "import pandas as pd\n",
    "from matplotlib import pyplot as plt\n",
    "import numpy as np"
   ]
  },
  {
   "cell_type": "markdown",
   "metadata": {},
   "source": [
    "First we need to combine the station line (wikitable to csv from [here](https://wiki.openstreetmap.org/wiki/List_of_London_Underground_stations)) and [station postcode](https://www.doogal.co.uk/london_stations.php) CSV files."
   ]
  },
  {
   "cell_type": "code",
   "execution_count": 3,
   "metadata": {},
   "outputs": [],
   "source": [
    "df_sl = pd.read_csv('data/station_lines.csv')"
   ]
  },
  {
   "cell_type": "code",
   "execution_count": 4,
   "metadata": {},
   "outputs": [
    {
     "data": {
      "text/html": [
       "<div>\n",
       "<style scoped>\n",
       "    .dataframe tbody tr th:only-of-type {\n",
       "        vertical-align: middle;\n",
       "    }\n",
       "\n",
       "    .dataframe tbody tr th {\n",
       "        vertical-align: top;\n",
       "    }\n",
       "\n",
       "    .dataframe thead th {\n",
       "        text-align: right;\n",
       "    }\n",
       "</style>\n",
       "<table border=\"1\" class=\"dataframe\">\n",
       "  <thead>\n",
       "    <tr style=\"text-align: right;\">\n",
       "      <th></th>\n",
       "      <th>Name</th>\n",
       "      <th>Latitude</th>\n",
       "      <th>Longitude</th>\n",
       "      <th>Platform / Entrance</th>\n",
       "      <th>Collected By</th>\n",
       "      <th>Collected On</th>\n",
       "      <th>Line</th>\n",
       "      <th>Step free</th>\n",
       "    </tr>\n",
       "  </thead>\n",
       "  <tbody>\n",
       "    <tr>\n",
       "      <th>0</th>\n",
       "      <td>Acton Town</td>\n",
       "      <td>51.502500</td>\n",
       "      <td>-0.278126</td>\n",
       "      <td>Platform</td>\n",
       "      <td>User:Gagravarr</td>\n",
       "      <td>24/11/06</td>\n",
       "      <td>District, Piccadilly</td>\n",
       "      <td>NaN</td>\n",
       "    </tr>\n",
       "    <tr>\n",
       "      <th>1</th>\n",
       "      <td>Acton Central</td>\n",
       "      <td>51.50883531</td>\n",
       "      <td>-0.263033174</td>\n",
       "      <td>Entrance</td>\n",
       "      <td>User:Firefishy</td>\n",
       "      <td>08/05/2007</td>\n",
       "      <td>London Overground</td>\n",
       "      <td>NaN</td>\n",
       "    </tr>\n",
       "    <tr>\n",
       "      <th>2</th>\n",
       "      <td>Acton Central</td>\n",
       "      <td>51.50856013</td>\n",
       "      <td>-0.262879534</td>\n",
       "      <td>Platform</td>\n",
       "      <td>User:Firefishy</td>\n",
       "      <td>08/05/2007</td>\n",
       "      <td>London Overground</td>\n",
       "      <td>NaN</td>\n",
       "    </tr>\n",
       "    <tr>\n",
       "      <th>3</th>\n",
       "      <td>Aldgate</td>\n",
       "      <td>51.51394</td>\n",
       "      <td>-0.07537</td>\n",
       "      <td>Aldgate High Street entrance</td>\n",
       "      <td>User:Morwen</td>\n",
       "      <td>28/4/2007</td>\n",
       "      <td>Metropolitan</td>\n",
       "      <td>No</td>\n",
       "    </tr>\n",
       "    <tr>\n",
       "      <th>4</th>\n",
       "      <td>Aldgate East</td>\n",
       "      <td>51.51514</td>\n",
       "      <td>-0.07178</td>\n",
       "      <td>Entrance</td>\n",
       "      <td>User:Parsingphase</td>\n",
       "      <td>(2006)</td>\n",
       "      <td>District, Hammersmith &amp; City</td>\n",
       "      <td>NaN</td>\n",
       "    </tr>\n",
       "  </tbody>\n",
       "</table>\n",
       "</div>"
      ],
      "text/plain": [
       "            Name     Latitude     Longitude           Platform / Entrance  \\\n",
       "0     Acton Town    51.502500     -0.278126                      Platform   \n",
       "1  Acton Central  51.50883531  -0.263033174                      Entrance   \n",
       "2  Acton Central  51.50856013  -0.262879534                      Platform   \n",
       "3        Aldgate     51.51394      -0.07537  Aldgate High Street entrance   \n",
       "4   Aldgate East     51.51514      -0.07178                      Entrance   \n",
       "\n",
       "        Collected By Collected On                          Line Step free  \n",
       "0     User:Gagravarr     24/11/06          District, Piccadilly       NaN  \n",
       "1     User:Firefishy   08/05/2007             London Overground       NaN  \n",
       "2     User:Firefishy   08/05/2007             London Overground       NaN  \n",
       "3        User:Morwen    28/4/2007                  Metropolitan        No  \n",
       "4  User:Parsingphase       (2006)  District, Hammersmith & City       NaN  "
      ]
     },
     "execution_count": 4,
     "metadata": {},
     "output_type": "execute_result"
    }
   ],
   "source": [
    "df_sl.head()"
   ]
  },
  {
   "cell_type": "code",
   "execution_count": 5,
   "metadata": {},
   "outputs": [],
   "source": [
    "df_sp = pd.read_csv('data/London stations.csv')"
   ]
  },
  {
   "cell_type": "code",
   "execution_count": 6,
   "metadata": {},
   "outputs": [
    {
     "data": {
      "text/html": [
       "<div>\n",
       "<style scoped>\n",
       "    .dataframe tbody tr th:only-of-type {\n",
       "        vertical-align: middle;\n",
       "    }\n",
       "\n",
       "    .dataframe tbody tr th {\n",
       "        vertical-align: top;\n",
       "    }\n",
       "\n",
       "    .dataframe thead th {\n",
       "        text-align: right;\n",
       "    }\n",
       "</style>\n",
       "<table border=\"1\" class=\"dataframe\">\n",
       "  <thead>\n",
       "    <tr style=\"text-align: right;\">\n",
       "      <th></th>\n",
       "      <th>Station</th>\n",
       "      <th>OS X</th>\n",
       "      <th>OS Y</th>\n",
       "      <th>Latitude</th>\n",
       "      <th>Longitude</th>\n",
       "      <th>Zone</th>\n",
       "      <th>Postcode</th>\n",
       "    </tr>\n",
       "  </thead>\n",
       "  <tbody>\n",
       "    <tr>\n",
       "      <th>0</th>\n",
       "      <td>Abbey Road</td>\n",
       "      <td>539081</td>\n",
       "      <td>183352</td>\n",
       "      <td>51.531952</td>\n",
       "      <td>0.003723</td>\n",
       "      <td>3</td>\n",
       "      <td>E15 3NB</td>\n",
       "    </tr>\n",
       "    <tr>\n",
       "      <th>1</th>\n",
       "      <td>Abbey Wood</td>\n",
       "      <td>547297</td>\n",
       "      <td>179002</td>\n",
       "      <td>51.490784</td>\n",
       "      <td>0.120272</td>\n",
       "      <td>4</td>\n",
       "      <td>SE2 9RH</td>\n",
       "    </tr>\n",
       "    <tr>\n",
       "      <th>2</th>\n",
       "      <td>Acton Central</td>\n",
       "      <td>520613</td>\n",
       "      <td>180299</td>\n",
       "      <td>51.508758</td>\n",
       "      <td>-0.263430</td>\n",
       "      <td>2</td>\n",
       "      <td>W3 6BD</td>\n",
       "    </tr>\n",
       "    <tr>\n",
       "      <th>3</th>\n",
       "      <td>Acton Main Line</td>\n",
       "      <td>520296</td>\n",
       "      <td>181196</td>\n",
       "      <td>51.516887</td>\n",
       "      <td>-0.267690</td>\n",
       "      <td>3</td>\n",
       "      <td>W3 0BP</td>\n",
       "    </tr>\n",
       "    <tr>\n",
       "      <th>4</th>\n",
       "      <td>Acton Town</td>\n",
       "      <td>519457</td>\n",
       "      <td>179639</td>\n",
       "      <td>51.503071</td>\n",
       "      <td>-0.280303</td>\n",
       "      <td>3</td>\n",
       "      <td>W3 8HN</td>\n",
       "    </tr>\n",
       "  </tbody>\n",
       "</table>\n",
       "</div>"
      ],
      "text/plain": [
       "           Station    OS X    OS Y   Latitude  Longitude Zone Postcode\n",
       "0       Abbey Road  539081  183352  51.531952   0.003723    3  E15 3NB\n",
       "1       Abbey Wood  547297  179002  51.490784   0.120272    4  SE2 9RH\n",
       "2    Acton Central  520613  180299  51.508758  -0.263430    2   W3 6BD\n",
       "3  Acton Main Line  520296  181196  51.516887  -0.267690    3   W3 0BP\n",
       "4       Acton Town  519457  179639  51.503071  -0.280303    3   W3 8HN"
      ]
     },
     "execution_count": 6,
     "metadata": {},
     "output_type": "execute_result"
    }
   ],
   "source": [
    "df_sp.head()"
   ]
  },
  {
   "cell_type": "markdown",
   "metadata": {},
   "source": [
    "We'd just like the stations on the Central and the Victoria lines (the initial night tube lines at the launch)."
   ]
  },
  {
   "cell_type": "code",
   "execution_count": 7,
   "metadata": {},
   "outputs": [
    {
     "data": {
      "text/html": [
       "<div>\n",
       "<style scoped>\n",
       "    .dataframe tbody tr th:only-of-type {\n",
       "        vertical-align: middle;\n",
       "    }\n",
       "\n",
       "    .dataframe tbody tr th {\n",
       "        vertical-align: top;\n",
       "    }\n",
       "\n",
       "    .dataframe thead th {\n",
       "        text-align: right;\n",
       "    }\n",
       "</style>\n",
       "<table border=\"1\" class=\"dataframe\">\n",
       "  <thead>\n",
       "    <tr style=\"text-align: right;\">\n",
       "      <th></th>\n",
       "      <th>Name</th>\n",
       "      <th>Latitude</th>\n",
       "      <th>Longitude</th>\n",
       "      <th>Platform / Entrance</th>\n",
       "      <th>Collected By</th>\n",
       "      <th>Collected On</th>\n",
       "      <th>Line</th>\n",
       "      <th>Step free</th>\n",
       "    </tr>\n",
       "  </thead>\n",
       "  <tbody>\n",
       "    <tr>\n",
       "      <th>14</th>\n",
       "      <td>Bank</td>\n",
       "      <td>51.5134047</td>\n",
       "      <td>-0.08905843</td>\n",
       "      <td>Entrance</td>\n",
       "      <td>User:Gagravarr</td>\n",
       "      <td>10/10/06</td>\n",
       "      <td>Central, Waterloo &amp; City</td>\n",
       "      <td>NaN</td>\n",
       "    </tr>\n",
       "    <tr>\n",
       "      <th>17</th>\n",
       "      <td>Barkingside</td>\n",
       "      <td>51.58543</td>\n",
       "      <td>+0.08854</td>\n",
       "      <td>platforms</td>\n",
       "      <td>User:Morwen</td>\n",
       "      <td>21/4/07</td>\n",
       "      <td>Central</td>\n",
       "      <td>NaN</td>\n",
       "    </tr>\n",
       "    <tr>\n",
       "      <th>23</th>\n",
       "      <td>Bethnal Green</td>\n",
       "      <td>51.52718</td>\n",
       "      <td>-0.05504</td>\n",
       "      <td>tube station entrance</td>\n",
       "      <td>User:Morwen</td>\n",
       "      <td>2007-05-12</td>\n",
       "      <td>Central</td>\n",
       "      <td>No</td>\n",
       "    </tr>\n",
       "    <tr>\n",
       "      <th>25</th>\n",
       "      <td>Blackhorse Road</td>\n",
       "      <td>51.58698</td>\n",
       "      <td>-0.04104</td>\n",
       "      <td>Entrance Hall</td>\n",
       "      <td>User:Firefishy</td>\n",
       "      <td>15/08/2007</td>\n",
       "      <td>Victoria</td>\n",
       "      <td>NaN</td>\n",
       "    </tr>\n",
       "    <tr>\n",
       "      <th>26</th>\n",
       "      <td>Bond Street</td>\n",
       "      <td>51.51461</td>\n",
       "      <td>-0.14897</td>\n",
       "      <td>Entrance</td>\n",
       "      <td>User:Mattwestcott</td>\n",
       "      <td>16/02/2007</td>\n",
       "      <td>Central, Jubilee</td>\n",
       "      <td>No</td>\n",
       "    </tr>\n",
       "  </tbody>\n",
       "</table>\n",
       "</div>"
      ],
      "text/plain": [
       "               Name    Latitude    Longitude    Platform / Entrance  \\\n",
       "14             Bank  51.5134047  -0.08905843               Entrance   \n",
       "17      Barkingside    51.58543     +0.08854              platforms   \n",
       "23    Bethnal Green    51.52718     -0.05504  tube station entrance   \n",
       "25  Blackhorse Road    51.58698     -0.04104          Entrance Hall   \n",
       "26      Bond Street    51.51461     -0.14897               Entrance   \n",
       "\n",
       "         Collected By Collected On                      Line Step free  \n",
       "14     User:Gagravarr     10/10/06  Central, Waterloo & City       NaN  \n",
       "17        User:Morwen      21/4/07                   Central       NaN  \n",
       "23        User:Morwen   2007-05-12                   Central        No  \n",
       "25     User:Firefishy   15/08/2007                  Victoria       NaN  \n",
       "26  User:Mattwestcott   16/02/2007          Central, Jubilee        No  "
      ]
     },
     "execution_count": 7,
     "metadata": {},
     "output_type": "execute_result"
    }
   ],
   "source": [
    "df_sl.loc[df_sl['Line'].str.contains('Central') | df_sl['Line'].str.contains('Victoria')].head()"
   ]
  },
  {
   "cell_type": "code",
   "execution_count": 8,
   "metadata": {},
   "outputs": [],
   "source": [
    "stations = df_sl.loc[df_sl['Line'].str.contains('Central') | df_sl['Line'].str.contains('Victoria')]['Name']"
   ]
  },
  {
   "cell_type": "code",
   "execution_count": 9,
   "metadata": {},
   "outputs": [
    {
     "data": {
      "text/html": [
       "<div>\n",
       "<style scoped>\n",
       "    .dataframe tbody tr th:only-of-type {\n",
       "        vertical-align: middle;\n",
       "    }\n",
       "\n",
       "    .dataframe tbody tr th {\n",
       "        vertical-align: top;\n",
       "    }\n",
       "\n",
       "    .dataframe thead th {\n",
       "        text-align: right;\n",
       "    }\n",
       "</style>\n",
       "<table border=\"1\" class=\"dataframe\">\n",
       "  <thead>\n",
       "    <tr style=\"text-align: right;\">\n",
       "      <th></th>\n",
       "      <th>Station</th>\n",
       "      <th>OS X</th>\n",
       "      <th>OS Y</th>\n",
       "      <th>Latitude</th>\n",
       "      <th>Longitude</th>\n",
       "      <th>Zone</th>\n",
       "      <th>Postcode</th>\n",
       "    </tr>\n",
       "  </thead>\n",
       "  <tbody>\n",
       "    <tr>\n",
       "      <th>25</th>\n",
       "      <td>Bank</td>\n",
       "      <td>532704</td>\n",
       "      <td>181111</td>\n",
       "      <td>51.513347</td>\n",
       "      <td>-0.089000</td>\n",
       "      <td>1</td>\n",
       "      <td>EC3V 3LA</td>\n",
       "    </tr>\n",
       "    <tr>\n",
       "      <th>29</th>\n",
       "      <td>Barkingside</td>\n",
       "      <td>544788</td>\n",
       "      <td>189510</td>\n",
       "      <td>51.585851</td>\n",
       "      <td>0.088477</td>\n",
       "      <td>4</td>\n",
       "      <td>IG6 1NB</td>\n",
       "    </tr>\n",
       "    <tr>\n",
       "      <th>50</th>\n",
       "      <td>Bethnal Green</td>\n",
       "      <td>534995</td>\n",
       "      <td>182712</td>\n",
       "      <td>51.527192</td>\n",
       "      <td>-0.055392</td>\n",
       "      <td>2</td>\n",
       "      <td>E2 0ET</td>\n",
       "    </tr>\n",
       "    <tr>\n",
       "      <th>59</th>\n",
       "      <td>Blackhorse Road</td>\n",
       "      <td>535914</td>\n",
       "      <td>189256</td>\n",
       "      <td>51.585777</td>\n",
       "      <td>-0.039626</td>\n",
       "      <td>3</td>\n",
       "      <td>E17 6JJ</td>\n",
       "    </tr>\n",
       "    <tr>\n",
       "      <th>61</th>\n",
       "      <td>Bond Street</td>\n",
       "      <td>528497</td>\n",
       "      <td>181053</td>\n",
       "      <td>51.513798</td>\n",
       "      <td>-0.149614</td>\n",
       "      <td>1</td>\n",
       "      <td>W1C 2HU</td>\n",
       "    </tr>\n",
       "  </tbody>\n",
       "</table>\n",
       "</div>"
      ],
      "text/plain": [
       "            Station    OS X    OS Y   Latitude  Longitude Zone  Postcode\n",
       "25             Bank  532704  181111  51.513347  -0.089000    1  EC3V 3LA\n",
       "29      Barkingside  544788  189510  51.585851   0.088477    4   IG6 1NB\n",
       "50    Bethnal Green  534995  182712  51.527192  -0.055392    2    E2 0ET\n",
       "59  Blackhorse Road  535914  189256  51.585777  -0.039626    3   E17 6JJ\n",
       "61      Bond Street  528497  181053  51.513798  -0.149614    1   W1C 2HU"
      ]
     },
     "execution_count": 9,
     "metadata": {},
     "output_type": "execute_result"
    }
   ],
   "source": [
    "df_sp.loc[df_sp['Station'].isin(stations)].head()"
   ]
  },
  {
   "cell_type": "code",
   "execution_count": 10,
   "metadata": {},
   "outputs": [
    {
     "data": {
      "text/plain": [
       "(60, 7)"
      ]
     },
     "execution_count": 10,
     "metadata": {},
     "output_type": "execute_result"
    }
   ],
   "source": [
    "df_sp.loc[df_sp['Station'].isin(stations)].shape"
   ]
  },
  {
   "cell_type": "markdown",
   "metadata": {},
   "source": [
    "Now we have a table of stations on the Central or Victoria Lines and their postcodes, although we seem to have lost about 5 stations in the process. Eventually we'd find better datasets, but this sample will be sufficient for now.\n",
    "\n",
    "Next we need to link these to the MSOA (Middle Layer Super Output Area) tags that we have in the night time economy dataset using a [lookup table](https://data.london.gov.uk/dataset/postcode-directory-for-london)."
   ]
  },
  {
   "cell_type": "code",
   "execution_count": 11,
   "metadata": {},
   "outputs": [],
   "source": [
    "df_pc = pd.read_excel('data/London_postcode-ONS-postcode-Directory-May15.xlsx')"
   ]
  },
  {
   "cell_type": "code",
   "execution_count": 12,
   "metadata": {},
   "outputs": [],
   "source": [
    "msoas = df_pc.loc[df_pc['pcds'].isin(df_sp.loc[df_sp['Station'].isin(stations)]['Postcode'])]['msoa11']"
   ]
  },
  {
   "cell_type": "code",
   "execution_count": 13,
   "metadata": {},
   "outputs": [
    {
     "data": {
      "text/plain": [
       "(43,)"
      ]
     },
     "execution_count": 13,
     "metadata": {},
     "output_type": "execute_result"
    }
   ],
   "source": [
    "msoas.shape"
   ]
  },
  {
   "cell_type": "markdown",
   "metadata": {},
   "source": [
    "Again, we have lost some stations but this could be where the lines intersect or multiple stations lie in the same MSOA. 43 MSOAs is enough for this preliminary analysis.\n",
    "\n",
    "Now we need to filter our night time economy dataset to the correct MSOAs to study growth."
   ]
  },
  {
   "cell_type": "code",
   "execution_count": 31,
   "metadata": {},
   "outputs": [],
   "source": [
    "df_nt = pd.read_excel('data/night-time-economy.xls', sheet_name='NTE businesses London MSOAs')"
   ]
  },
  {
   "cell_type": "code",
   "execution_count": 32,
   "metadata": {},
   "outputs": [
    {
     "data": {
      "text/html": [
       "<div>\n",
       "<style scoped>\n",
       "    .dataframe tbody tr th:only-of-type {\n",
       "        vertical-align: middle;\n",
       "    }\n",
       "\n",
       "    .dataframe tbody tr th {\n",
       "        vertical-align: top;\n",
       "    }\n",
       "\n",
       "    .dataframe thead th {\n",
       "        text-align: right;\n",
       "    }\n",
       "</style>\n",
       "<table border=\"1\" class=\"dataframe\">\n",
       "  <thead>\n",
       "    <tr style=\"text-align: right;\">\n",
       "      <th></th>\n",
       "      <th>Number of workplaces in the Night Time Economy in London MSOAs, 2001-2017</th>\n",
       "      <th>Unnamed: 1</th>\n",
       "      <th>Unnamed: 2</th>\n",
       "      <th>Unnamed: 3</th>\n",
       "      <th>Unnamed: 4</th>\n",
       "      <th>Unnamed: 5</th>\n",
       "      <th>Unnamed: 6</th>\n",
       "      <th>Unnamed: 7</th>\n",
       "      <th>Unnamed: 8</th>\n",
       "      <th>Unnamed: 9</th>\n",
       "      <th>Unnamed: 10</th>\n",
       "      <th>Unnamed: 11</th>\n",
       "      <th>Unnamed: 12</th>\n",
       "      <th>Unnamed: 13</th>\n",
       "      <th>Unnamed: 14</th>\n",
       "      <th>Unnamed: 15</th>\n",
       "      <th>Unnamed: 16</th>\n",
       "      <th>Unnamed: 17</th>\n",
       "      <th>Unnamed: 18</th>\n",
       "      <th>Unnamed: 19</th>\n",
       "    </tr>\n",
       "  </thead>\n",
       "  <tbody>\n",
       "    <tr>\n",
       "      <th>0</th>\n",
       "      <td>NaN</td>\n",
       "      <td>NaN</td>\n",
       "      <td>NaN</td>\n",
       "      <td>NaN</td>\n",
       "      <td>NaN</td>\n",
       "      <td>NaN</td>\n",
       "      <td>NaN</td>\n",
       "      <td>NaN</td>\n",
       "      <td>NaN</td>\n",
       "      <td>NaN</td>\n",
       "      <td>NaN</td>\n",
       "      <td>NaN</td>\n",
       "      <td>NaN</td>\n",
       "      <td>NaN</td>\n",
       "      <td>NaN</td>\n",
       "      <td>NaN</td>\n",
       "      <td>NaN</td>\n",
       "      <td>NaN</td>\n",
       "      <td>NaN</td>\n",
       "      <td>NaN</td>\n",
       "    </tr>\n",
       "    <tr>\n",
       "      <th>1</th>\n",
       "      <td>Area code</td>\n",
       "      <td>Area name</td>\n",
       "      <td>Night Time Economy category</td>\n",
       "      <td>Year</td>\n",
       "      <td>NaN</td>\n",
       "      <td>NaN</td>\n",
       "      <td>NaN</td>\n",
       "      <td>NaN</td>\n",
       "      <td>NaN</td>\n",
       "      <td>NaN</td>\n",
       "      <td>NaN</td>\n",
       "      <td>NaN</td>\n",
       "      <td>NaN</td>\n",
       "      <td>NaN</td>\n",
       "      <td>NaN</td>\n",
       "      <td>NaN</td>\n",
       "      <td>NaN</td>\n",
       "      <td>NaN</td>\n",
       "      <td>NaN</td>\n",
       "      <td>NaN</td>\n",
       "    </tr>\n",
       "    <tr>\n",
       "      <th>2</th>\n",
       "      <td>NaN</td>\n",
       "      <td>NaN</td>\n",
       "      <td>NaN</td>\n",
       "      <td>2001</td>\n",
       "      <td>2002.0</td>\n",
       "      <td>2003.0</td>\n",
       "      <td>2004.0</td>\n",
       "      <td>2005.0</td>\n",
       "      <td>2006.0</td>\n",
       "      <td>2007.0</td>\n",
       "      <td>2008.0</td>\n",
       "      <td>2009.0</td>\n",
       "      <td>2010.0</td>\n",
       "      <td>2011.0</td>\n",
       "      <td>2012.0</td>\n",
       "      <td>2013.0</td>\n",
       "      <td>2014.0</td>\n",
       "      <td>2015.0</td>\n",
       "      <td>2016.0</td>\n",
       "      <td>2017.0</td>\n",
       "    </tr>\n",
       "    <tr>\n",
       "      <th>3</th>\n",
       "      <td>K02000001</td>\n",
       "      <td>United Kingdom</td>\n",
       "      <td>Cultural and leisure activities</td>\n",
       "      <td>240595</td>\n",
       "      <td>243430.0</td>\n",
       "      <td>241400.0</td>\n",
       "      <td>242270.0</td>\n",
       "      <td>246715.0</td>\n",
       "      <td>248025.0</td>\n",
       "      <td>251125.0</td>\n",
       "      <td>255075.0</td>\n",
       "      <td>257085.0</td>\n",
       "      <td>247925.0</td>\n",
       "      <td>238895.0</td>\n",
       "      <td>244695.0</td>\n",
       "      <td>243700.0</td>\n",
       "      <td>249925.0</td>\n",
       "      <td>266180.0</td>\n",
       "      <td>268995.0</td>\n",
       "      <td>274795.0</td>\n",
       "    </tr>\n",
       "    <tr>\n",
       "      <th>4</th>\n",
       "      <td>E12000007</td>\n",
       "      <td>London</td>\n",
       "      <td>Cultural and leisure activities</td>\n",
       "      <td>43205</td>\n",
       "      <td>43675.0</td>\n",
       "      <td>43085.0</td>\n",
       "      <td>42520.0</td>\n",
       "      <td>42845.0</td>\n",
       "      <td>42930.0</td>\n",
       "      <td>43260.0</td>\n",
       "      <td>43905.0</td>\n",
       "      <td>44835.0</td>\n",
       "      <td>43350.0</td>\n",
       "      <td>42280.0</td>\n",
       "      <td>44615.0</td>\n",
       "      <td>45340.0</td>\n",
       "      <td>47000.0</td>\n",
       "      <td>49435.0</td>\n",
       "      <td>50515.0</td>\n",
       "      <td>52215.0</td>\n",
       "    </tr>\n",
       "  </tbody>\n",
       "</table>\n",
       "</div>"
      ],
      "text/plain": [
       "  Number of workplaces in the Night Time Economy in London MSOAs, 2001-2017  \\\n",
       "0                                                NaN                          \n",
       "1                                          Area code                          \n",
       "2                                                NaN                          \n",
       "3                                          K02000001                          \n",
       "4                                          E12000007                          \n",
       "\n",
       "       Unnamed: 1                       Unnamed: 2 Unnamed: 3  Unnamed: 4  \\\n",
       "0             NaN                              NaN        NaN         NaN   \n",
       "1       Area name      Night Time Economy category       Year         NaN   \n",
       "2             NaN                              NaN       2001      2002.0   \n",
       "3  United Kingdom  Cultural and leisure activities     240595    243430.0   \n",
       "4          London  Cultural and leisure activities      43205     43675.0   \n",
       "\n",
       "   Unnamed: 5  Unnamed: 6  Unnamed: 7  Unnamed: 8  Unnamed: 9  Unnamed: 10  \\\n",
       "0         NaN         NaN         NaN         NaN         NaN          NaN   \n",
       "1         NaN         NaN         NaN         NaN         NaN          NaN   \n",
       "2      2003.0      2004.0      2005.0      2006.0      2007.0       2008.0   \n",
       "3    241400.0    242270.0    246715.0    248025.0    251125.0     255075.0   \n",
       "4     43085.0     42520.0     42845.0     42930.0     43260.0      43905.0   \n",
       "\n",
       "   Unnamed: 11  Unnamed: 12  Unnamed: 13  Unnamed: 14  Unnamed: 15  \\\n",
       "0          NaN          NaN          NaN          NaN          NaN   \n",
       "1          NaN          NaN          NaN          NaN          NaN   \n",
       "2       2009.0       2010.0       2011.0       2012.0       2013.0   \n",
       "3     257085.0     247925.0     238895.0     244695.0     243700.0   \n",
       "4      44835.0      43350.0      42280.0      44615.0      45340.0   \n",
       "\n",
       "   Unnamed: 16  Unnamed: 17  Unnamed: 18  Unnamed: 19  \n",
       "0          NaN          NaN          NaN          NaN  \n",
       "1          NaN          NaN          NaN          NaN  \n",
       "2       2014.0       2015.0       2016.0       2017.0  \n",
       "3     249925.0     266180.0     268995.0     274795.0  \n",
       "4      47000.0      49435.0      50515.0      52215.0  "
      ]
     },
     "execution_count": 32,
     "metadata": {},
     "output_type": "execute_result"
    }
   ],
   "source": [
    "df_nt.head()"
   ]
  },
  {
   "cell_type": "code",
   "execution_count": 33,
   "metadata": {},
   "outputs": [],
   "source": [
    "df_nt.columns = list(df_nt.iloc[1,:3]) + list(df_nt.iloc[2,3:])\n",
    "df_nt = df_nt.iloc[3:5910]"
   ]
  },
  {
   "cell_type": "markdown",
   "metadata": {},
   "source": [
    "Let's filter to the aggregated data."
   ]
  },
  {
   "cell_type": "code",
   "execution_count": 35,
   "metadata": {},
   "outputs": [],
   "source": [
    "df_nt = df_nt.loc[df_nt['Night Time Economy category'] == 'Total in all sectors']"
   ]
  },
  {
   "cell_type": "markdown",
   "metadata": {},
   "source": [
    "Now we have reformatted and filtered the dataframe, we shall filter to the correct Area codes."
   ]
  },
  {
   "cell_type": "code",
   "execution_count": 38,
   "metadata": {},
   "outputs": [],
   "source": [
    "df_nt = df_nt.loc[df_nt['Area code'].isin(msoas)]"
   ]
  },
  {
   "cell_type": "markdown",
   "metadata": {},
   "source": [
    "We wish to assess the _growth_ of each of the areas - we will use fractional growth in employment."
   ]
  },
  {
   "cell_type": "code",
   "execution_count": 39,
   "metadata": {
    "scrolled": false
   },
   "outputs": [
    {
     "data": {
      "text/html": [
       "<div>\n",
       "<style scoped>\n",
       "    .dataframe tbody tr th:only-of-type {\n",
       "        vertical-align: middle;\n",
       "    }\n",
       "\n",
       "    .dataframe tbody tr th {\n",
       "        vertical-align: top;\n",
       "    }\n",
       "\n",
       "    .dataframe thead th {\n",
       "        text-align: right;\n",
       "    }\n",
       "</style>\n",
       "<table border=\"1\" class=\"dataframe\">\n",
       "  <thead>\n",
       "    <tr style=\"text-align: right;\">\n",
       "      <th></th>\n",
       "      <th>Area code</th>\n",
       "      <th>Area name</th>\n",
       "      <th>Night Time Economy category</th>\n",
       "      <th>2001</th>\n",
       "      <th>2002.0</th>\n",
       "      <th>2003.0</th>\n",
       "      <th>2004.0</th>\n",
       "      <th>2005.0</th>\n",
       "      <th>2006.0</th>\n",
       "      <th>2007.0</th>\n",
       "      <th>2008.0</th>\n",
       "      <th>2009.0</th>\n",
       "      <th>2010.0</th>\n",
       "      <th>2011.0</th>\n",
       "      <th>2012.0</th>\n",
       "      <th>2013.0</th>\n",
       "      <th>2014.0</th>\n",
       "      <th>2015.0</th>\n",
       "      <th>2016.0</th>\n",
       "      <th>2017.0</th>\n",
       "    </tr>\n",
       "  </thead>\n",
       "  <tbody>\n",
       "    <tr>\n",
       "      <th>5120</th>\n",
       "      <td>E02000191</td>\n",
       "      <td>Camden</td>\n",
       "      <td>Total in all sectors</td>\n",
       "      <td>NaN</td>\n",
       "      <td>-0.029851</td>\n",
       "      <td>-0.010256</td>\n",
       "      <td>0.007772</td>\n",
       "      <td>0.035990</td>\n",
       "      <td>-0.024814</td>\n",
       "      <td>0.02799</td>\n",
       "      <td>-0.002475</td>\n",
       "      <td>0.037221</td>\n",
       "      <td>-0.004785</td>\n",
       "      <td>-0.004808</td>\n",
       "      <td>0.077295</td>\n",
       "      <td>0.004484</td>\n",
       "      <td>0.029018</td>\n",
       "      <td>0.043384</td>\n",
       "      <td>0.045738</td>\n",
       "      <td>0.023857</td>\n",
       "    </tr>\n",
       "    <tr>\n",
       "      <th>5170</th>\n",
       "      <td>E02000241</td>\n",
       "      <td>Ealing</td>\n",
       "      <td>Total in all sectors</td>\n",
       "      <td>NaN</td>\n",
       "      <td>0.025641</td>\n",
       "      <td>-0.025000</td>\n",
       "      <td>0.000000</td>\n",
       "      <td>-0.051282</td>\n",
       "      <td>0.081081</td>\n",
       "      <td>0.05000</td>\n",
       "      <td>0.047619</td>\n",
       "      <td>0.022727</td>\n",
       "      <td>-0.044444</td>\n",
       "      <td>-0.046512</td>\n",
       "      <td>0.121951</td>\n",
       "      <td>0.043478</td>\n",
       "      <td>0.125000</td>\n",
       "      <td>0.129630</td>\n",
       "      <td>0.000000</td>\n",
       "      <td>0.065574</td>\n",
       "    </tr>\n",
       "    <tr>\n",
       "      <th>5172</th>\n",
       "      <td>E02000243</td>\n",
       "      <td>Ealing</td>\n",
       "      <td>Total in all sectors</td>\n",
       "      <td>NaN</td>\n",
       "      <td>0.056338</td>\n",
       "      <td>0.026667</td>\n",
       "      <td>-0.012987</td>\n",
       "      <td>0.039474</td>\n",
       "      <td>0.025316</td>\n",
       "      <td>0.00000</td>\n",
       "      <td>-0.012346</td>\n",
       "      <td>0.012500</td>\n",
       "      <td>-0.049383</td>\n",
       "      <td>0.012987</td>\n",
       "      <td>0.038462</td>\n",
       "      <td>0.086420</td>\n",
       "      <td>0.056818</td>\n",
       "      <td>0.064516</td>\n",
       "      <td>0.101010</td>\n",
       "      <td>0.082569</td>\n",
       "    </tr>\n",
       "    <tr>\n",
       "      <th>5173</th>\n",
       "      <td>E02000244</td>\n",
       "      <td>Ealing</td>\n",
       "      <td>Total in all sectors</td>\n",
       "      <td>NaN</td>\n",
       "      <td>0.014085</td>\n",
       "      <td>0.027778</td>\n",
       "      <td>0.000000</td>\n",
       "      <td>0.054054</td>\n",
       "      <td>-0.025641</td>\n",
       "      <td>0.00000</td>\n",
       "      <td>0.052632</td>\n",
       "      <td>0.000000</td>\n",
       "      <td>0.037500</td>\n",
       "      <td>-0.024096</td>\n",
       "      <td>0.074074</td>\n",
       "      <td>0.057471</td>\n",
       "      <td>0.065217</td>\n",
       "      <td>0.091837</td>\n",
       "      <td>-0.028037</td>\n",
       "      <td>0.038462</td>\n",
       "    </tr>\n",
       "    <tr>\n",
       "      <th>5177</th>\n",
       "      <td>E02000248</td>\n",
       "      <td>Ealing</td>\n",
       "      <td>Total in all sectors</td>\n",
       "      <td>NaN</td>\n",
       "      <td>-0.043478</td>\n",
       "      <td>0.011364</td>\n",
       "      <td>-0.044944</td>\n",
       "      <td>0.094118</td>\n",
       "      <td>0.010753</td>\n",
       "      <td>0.00000</td>\n",
       "      <td>-0.010638</td>\n",
       "      <td>0.000000</td>\n",
       "      <td>0.010753</td>\n",
       "      <td>0.031915</td>\n",
       "      <td>0.216495</td>\n",
       "      <td>0.008475</td>\n",
       "      <td>0.100840</td>\n",
       "      <td>0.152672</td>\n",
       "      <td>0.132450</td>\n",
       "      <td>0.076023</td>\n",
       "    </tr>\n",
       "  </tbody>\n",
       "</table>\n",
       "</div>"
      ],
      "text/plain": [
       "      Area code Area name Night Time Economy category  2001    2002.0  \\\n",
       "5120  E02000191    Camden        Total in all sectors   NaN -0.029851   \n",
       "5170  E02000241    Ealing        Total in all sectors   NaN  0.025641   \n",
       "5172  E02000243    Ealing        Total in all sectors   NaN  0.056338   \n",
       "5173  E02000244    Ealing        Total in all sectors   NaN  0.014085   \n",
       "5177  E02000248    Ealing        Total in all sectors   NaN -0.043478   \n",
       "\n",
       "        2003.0    2004.0    2005.0    2006.0   2007.0    2008.0    2009.0  \\\n",
       "5120 -0.010256  0.007772  0.035990 -0.024814  0.02799 -0.002475  0.037221   \n",
       "5170 -0.025000  0.000000 -0.051282  0.081081  0.05000  0.047619  0.022727   \n",
       "5172  0.026667 -0.012987  0.039474  0.025316  0.00000 -0.012346  0.012500   \n",
       "5173  0.027778  0.000000  0.054054 -0.025641  0.00000  0.052632  0.000000   \n",
       "5177  0.011364 -0.044944  0.094118  0.010753  0.00000 -0.010638  0.000000   \n",
       "\n",
       "        2010.0    2011.0    2012.0    2013.0    2014.0    2015.0    2016.0  \\\n",
       "5120 -0.004785 -0.004808  0.077295  0.004484  0.029018  0.043384  0.045738   \n",
       "5170 -0.044444 -0.046512  0.121951  0.043478  0.125000  0.129630  0.000000   \n",
       "5172 -0.049383  0.012987  0.038462  0.086420  0.056818  0.064516  0.101010   \n",
       "5173  0.037500 -0.024096  0.074074  0.057471  0.065217  0.091837 -0.028037   \n",
       "5177  0.010753  0.031915  0.216495  0.008475  0.100840  0.152672  0.132450   \n",
       "\n",
       "        2017.0  \n",
       "5120  0.023857  \n",
       "5170  0.065574  \n",
       "5172  0.082569  \n",
       "5173  0.038462  \n",
       "5177  0.076023  "
      ]
     },
     "execution_count": 39,
     "metadata": {},
     "output_type": "execute_result"
    }
   ],
   "source": [
    "df_ntp = df_nt.copy()\n",
    "df_ntp.iloc[:,3:] = df_nt.iloc[:,3:].pct_change(axis=1)\n",
    "df_ntp.head()"
   ]
  },
  {
   "cell_type": "markdown",
   "metadata": {},
   "source": [
    "If we use these percentage changes for each MSOA, we are essentially weighting each one equally, regardless of the total number of jobs contained within. We could also aggregate the MSOAs and consider the fractional increase in employment across the length of the lines. This may be a better measure of the overall growth, but could also ignore the effect of outliers."
   ]
  },
  {
   "cell_type": "code",
   "execution_count": 40,
   "metadata": {},
   "outputs": [
    {
     "data": {
      "text/plain": [
       "2002.0   -0.010335\n",
       "2003.0    0.004655\n",
       "2004.0   -0.007013\n",
       "2005.0   -0.008576\n",
       "2006.0   -0.001399\n",
       "2007.0    0.016688\n",
       "2008.0    0.018419\n",
       "2009.0   -0.002461\n",
       "2010.0   -0.026764\n",
       "2011.0   -0.004562\n",
       "2012.0    0.061108\n",
       "2013.0    0.028794\n",
       "2014.0    0.054577\n",
       "2015.0    0.069667\n",
       "2016.0    0.042076\n",
       "2017.0    0.026091\n",
       "dtype: float64"
      ]
     },
     "execution_count": 40,
     "metadata": {},
     "output_type": "execute_result"
    }
   ],
   "source": [
    "df_nt.iloc[:,3:].sum().pct_change()[1:]"
   ]
  },
  {
   "cell_type": "markdown",
   "metadata": {},
   "source": [
    "# Analysis"
   ]
  },
  {
   "cell_type": "code",
   "execution_count": 21,
   "metadata": {},
   "outputs": [],
   "source": [
    "x = np.array(df_ntp.columns[4:])\n",
    "y = np.zeros((x.shape[0],df_ntp['Area code'].shape[0]))\n",
    "\n",
    "for i, year in enumerate(x):\n",
    "    y[i] = np.array(df_ntp[year])\n",
    "    \n",
    "x = np.tile(x, (y.shape[1],1))\n",
    "\n",
    "data = np.array([x.T,y]).T.reshape((y.shape[1]*y.shape[0],2))"
   ]
  },
  {
   "cell_type": "code",
   "execution_count": 22,
   "metadata": {},
   "outputs": [
    {
     "data": {
      "text/plain": [
       "Text(0,0.5,'Fractional growth in employment')"
      ]
     },
     "execution_count": 22,
     "metadata": {},
     "output_type": "execute_result"
    },
    {
     "data": {
      "image/png": "[encoded data removed]",
      "text/plain": [
       "<Figure size 720x720 with 1 Axes>"
      ]
     },
     "metadata": {},
     "output_type": "display_data"
    }
   ],
   "source": [
    "plt.rcParams['figure.figsize'] = [10, 10]\n",
    "plt.scatter(data[:,0], data[:,1], s=2)\n",
    "plt.errorbar(np.array(df_ntp.columns[4:]), y.mean(axis=1), yerr=y.std(axis=1), fmt='x', color='peru')\n",
    "plt.xlabel('Year')\n",
    "plt.ylabel('Fractional growth in employment')"
   ]
  },
  {
   "cell_type": "markdown",
   "metadata": {},
   "source": [
    "Also plotting the aggregated percentage increase:"
   ]
  },
  {
   "cell_type": "code",
   "execution_count": 23,
   "metadata": {},
   "outputs": [
    {
     "data": {
      "text/plain": [
       "Text(0,0.5,'Fractional growth in employment')"
      ]
     },
     "execution_count": 23,
     "metadata": {},
     "output_type": "execute_result"
    },
    {
     "data": {
      "image/png": "[encoded data removed]",
      "text/plain": [
       "<Figure size 432x432 with 1 Axes>"
      ]
     },
     "metadata": {},
     "output_type": "display_data"
    }
   ],
   "source": [
    "plt.rcParams['figure.figsize'] = [6, 6]\n",
    "data = df_nt.iloc[:,3:].sum().pct_change()[1:]\n",
    "plt.scatter(data.index, data)\n",
    "plt.xlabel('Year')\n",
    "plt.ylabel('Fractional growth in employment')"
   ]
  },
  {
   "cell_type": "markdown",
   "metadata": {},
   "source": [
    "These graphs show us the fractional growth in employment in the night time economy in the immediate vicinity of stations on the Central and Victoria underground lines in London. These lines started operating 24hrs every weekend from **19th August 2016**, hence we may expect an increase in employment growth after this point, as businesses grow or new businesses are formed.\n",
    "\n",
    "However, no such increase is seen here - from this small sample we could suggest that any increased volume of business activity due to the night tube has been out-weighed by other negative factors, or perhaps that the night tube is yet to stimulate proper growth in employment.  \n",
    "\n",
    "**Note:** the accompanying data notes tell us that a change in the type of businesses included in the dataset added over 100,000 new businesses across England and Wales in 2015 which could account for a relatively high growth seen in this year."
   ]
  },
  {
   "cell_type": "markdown",
   "metadata": {},
   "source": [
    "## Growth in subsectors\n",
    "\n",
    "Above we looked at the _total_ increase in night time employment, let's instead look at the individual subsectors."
   ]
  },
  {
   "cell_type": "code",
   "execution_count": 60,
   "metadata": {},
   "outputs": [],
   "source": [
    "df_nt = pd.read_excel('data/night-time-economy.xls', sheet_name='NTE businesses London MSOAs')\n",
    "df_nt.columns = list(df_nt.iloc[1,:3]) + list(df_nt.iloc[2,3:])\n",
    "df_nt = df_nt.iloc[3:5910]"
   ]
  },
  {
   "cell_type": "code",
   "execution_count": 61,
   "metadata": {},
   "outputs": [
    {
     "data": {
      "text/plain": [
       "array(['Cultural and leisure activities',\n",
       "       'Activities which support night time cultural and leisure activities',\n",
       "       '24-hour health and personal social services',\n",
       "       'Activities which support wider social and economic activities',\n",
       "       'Any Night Time Economy category', 'Total in all sectors'],\n",
       "      dtype=object)"
      ]
     },
     "execution_count": 61,
     "metadata": {},
     "output_type": "execute_result"
    }
   ],
   "source": [
    "df_nt['Night Time Economy category'].unique()"
   ]
  },
  {
   "cell_type": "code",
   "execution_count": 62,
   "metadata": {},
   "outputs": [],
   "source": [
    "df_nt = df_nt.loc[(df_nt['Night Time Economy category'] == 'Cultural and leisure activities') | (df_nt['Night Time Economy category'] == 'Activities which support night time cultural and leisure activities')]"
   ]
  },
  {
   "cell_type": "code",
   "execution_count": 63,
   "metadata": {},
   "outputs": [
    {
     "data": {
      "text/plain": [
       "Text(0,0.5,'Fractional growth in employment')"
      ]
     },
     "execution_count": 63,
     "metadata": {},
     "output_type": "execute_result"
    },
    {
     "data": {
      "image/png": "[encoded data removed]",
      "text/plain": [
       "<Figure size 432x432 with 1 Axes>"
      ]
     },
     "metadata": {},
     "output_type": "display_data"
    }
   ],
   "source": [
    "plt.rcParams['figure.figsize'] = [6, 6]\n",
    "data = df_nt.iloc[:,3:].sum().pct_change()[1:]\n",
    "plt.scatter(data.index, data)\n",
    "plt.xlabel('Year')\n",
    "plt.ylabel('Fractional growth in employment')"
   ]
  },
  {
   "cell_type": "code",
   "execution_count": 64,
   "metadata": {},
   "outputs": [
    {
     "data": {
      "text/plain": [
       "2950.0"
      ]
     },
     "execution_count": 64,
     "metadata": {},
     "output_type": "execute_result"
    }
   ],
   "source": [
    "(df_nt[2017].sum()-df_nt[2016].sum())-(df_nt[2016].sum()-df_nt[2015].sum())"
   ]
  },
  {
   "cell_type": "markdown",
   "metadata": {},
   "source": [
    "So, whilst the overall growth in the night time employment has slowed, if we consider the 'Cultural and leisure activities' (and activities which support it) subsector we see an increase in job growth of 2950 jobs/year (although it's again hard to tell whether this is statistically significant on this single year from a small sample). This could suggest that this subsector has been quicker to react to the changes."
   ]
  },
  {
   "cell_type": "markdown",
   "metadata": {},
   "source": [
    "## Summary\n",
    "\n",
    "### Initial findings\n",
    "\n",
    "- Total job growth in the night time economy surrounding the Central and Victoria lines has decreased.\n",
    "- Job growth within the 'Cultural and leisure activities' (and activities which support it) subsector has increased.\n",
    "\n",
    "### Future extension\n",
    "\n",
    "- Include recently added 24hr underground lines.\n",
    "- Develop a more sophisticated means of sampling the MSOAs which benefit from the night tube.\n",
    "- Include richer data on London's night-time economy."
   ]
  }
 ],
 "metadata": {
  "kernelspec": {
   "display_name": "Python 3",
   "language": "python",
   "name": "python3"
  },
  "language_info": {
   "codemirror_mode": {
    "name": "ipython",
    "version": 3
   },
   "file_extension": ".py",
   "mimetype": "text/x-python",
   "name": "python",
   "nbconvert_exporter": "python",
   "pygments_lexer": "ipython3",
   "version": "3.6.3"
  }
 },
 "nbformat": 4,
 "nbformat_minor": 2
}
